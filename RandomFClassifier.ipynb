{
  "nbformat": 4,
  "nbformat_minor": 0,
  "metadata": {
    "colab": {
      "provenance": [],
      "collapsed_sections": [
        "v7J3lKgBiDzV",
        "63lkjr6InHz4",
        "kJgAnPuTr3TD",
        "iQ0UNALL6xKY",
        "h6e0f2kp9-Td",
        "hm9WxKu5u_EN"
      ]
    },
    "kernelspec": {
      "name": "python3",
      "display_name": "Python 3"
    },
    "language_info": {
      "name": "python"
    }
  },
  "cells": [
    {
      "cell_type": "markdown",
      "source": [
        "# Libraries and Module"
      ],
      "metadata": {
        "id": "kBuwCQ52tAmy"
      }
    },
    {
      "cell_type": "code",
      "execution_count": null,
      "metadata": {
        "id": "SOXl__oWZUzz"
      },
      "outputs": [],
      "source": [
        "import numpy as np # linear algebra\n",
        "import pandas as pd # data processing, CSV file I/O (e.g. pd.read_csv)\n",
        "import matplotlib.pyplot as plt # data visualization\n",
        "import seaborn as sns # statistical data visualization\n",
        "from sklearn.preprocessing import OneHotEncoder, LabelEncoder\n",
        "%matplotlib inline\n",
        "from sklearn.model_selection import train_test_split\n",
        "\n",
        "#source : https://www.kaggle.com/code/prashant111/random-forest-classifier-tutorial"
      ]
    },
    {
      "cell_type": "code",
      "source": [
        "pip install --upgrade scikit-learn"
      ],
      "metadata": {
        "id": "l0pB8pR9zlnw",
        "colab": {
          "base_uri": "https://localhost:8080/",
          "height": 356
        },
        "outputId": "abf6c617-db78-436f-ee2d-7187af8c5a41"
      },
      "execution_count": null,
      "outputs": [
        {
          "output_type": "stream",
          "name": "stdout",
          "text": [
            "Requirement already satisfied: scikit-learn in /usr/local/lib/python3.10/dist-packages (1.2.2)\n",
            "Collecting scikit-learn\n",
            "  Downloading scikit_learn-1.3.2-cp310-cp310-manylinux_2_17_x86_64.manylinux2014_x86_64.whl (10.8 MB)\n",
            "\u001b[2K     \u001b[90m━━━━━━━━━━━━━━━━━━━━━━━━━━━━━━━━━━━━━━━━\u001b[0m \u001b[32m10.8/10.8 MB\u001b[0m \u001b[31m80.9 MB/s\u001b[0m eta \u001b[36m0:00:00\u001b[0m\n",
            "\u001b[?25hRequirement already satisfied: numpy<2.0,>=1.17.3 in /usr/local/lib/python3.10/dist-packages (from scikit-learn) (1.23.5)\n",
            "Requirement already satisfied: scipy>=1.5.0 in /usr/local/lib/python3.10/dist-packages (from scikit-learn) (1.11.3)\n",
            "Requirement already satisfied: joblib>=1.1.1 in /usr/local/lib/python3.10/dist-packages (from scikit-learn) (1.3.2)\n",
            "Requirement already satisfied: threadpoolctl>=2.0.0 in /usr/local/lib/python3.10/dist-packages (from scikit-learn) (3.2.0)\n",
            "Installing collected packages: scikit-learn\n",
            "  Attempting uninstall: scikit-learn\n",
            "    Found existing installation: scikit-learn 1.2.2\n",
            "    Uninstalling scikit-learn-1.2.2:\n",
            "      Successfully uninstalled scikit-learn-1.2.2\n",
            "Successfully installed scikit-learn-1.3.2\n"
          ]
        },
        {
          "output_type": "display_data",
          "data": {
            "application/vnd.colab-display-data+json": {
              "pip_warning": {
                "packages": [
                  "sklearn"
                ]
              }
            }
          },
          "metadata": {}
        }
      ]
    },
    {
      "cell_type": "code",
      "source": [
        "# Mount Google Drive\n",
        "from google.colab import drive\n",
        "drive.mount('/content/subprogram6.pkl')\n",
        "\n",
        "# Create a symbolic link\n",
        "!ln -s /content/gdrive/My\\ Drive/ /mydriveCESU\n",
        "\n",
        "# List the contents of your Google Drive\n",
        "!ls /mydriveCESU"
      ],
      "metadata": {
        "id": "o4EzgOEZ1IA2"
      },
      "execution_count": null,
      "outputs": []
    },
    {
      "cell_type": "code",
      "source": [
        "data = '/content/cesu-17-below-Maytrabaho.csv'\n",
        "df = pd.read_csv(data)\n",
        "# view dimensions of dataset\n",
        "print('Datasets:', df.shape)"
      ],
      "metadata": {
        "id": "G-EX3OdMalZo",
        "colab": {
          "base_uri": "https://localhost:8080/"
        },
        "outputId": "6e29447a-1c38-4a59-9cd2-34d5a855f1e5"
      },
      "execution_count": null,
      "outputs": [
        {
          "output_type": "stream",
          "name": "stdout",
          "text": [
            "Datasets: (8191, 15)\n"
          ]
        }
      ]
    },
    {
      "cell_type": "markdown",
      "source": [
        "# Training datasets"
      ],
      "metadata": {
        "id": "Oz6F0ergNHPo"
      }
    },
    {
      "cell_type": "code",
      "source": [
        "data = pd.read_csv('/content/cesu-17-below-Maytrabaho.csv')\n",
        "\n",
        "# Define custom encoding dictionaries for each categorical column\n",
        "encoding_dict_kasarian = {'Lalake': 0, 'Babae': 1}\n",
        "encoding_dict_edad= {'17-below': 0, '18-24': 1, '25-34': 2, '35-44': 3, '45-54': 4, '55-64': 5, '65-Above': 6 }\n",
        "encoding_dict_antas = {'Hindi nakapagtapos ng Elementarya':0, 'Elementarya':1, 'Hindi nakapagtapos ng Sekundarya':2, 'Sekundarya':3, 'Kolehiyo':4, 'Hindi nakapagtapos ng Kolehiyo':5, 'Masters Degree':6, 'Doctorate Degree':7, 'Hindi nakapag-aral':8}  # Define your categories and values\n",
        "encoding_dict_uri = {'May Trabaho': 1, 'Walang Trabaho': 0}  # Define your categories and values\n",
        "#encoding_dict_program = {'Literacy': 0, 'Socio-economic': 1, 'Environmental Stewardship': 2, 'Health and Wellness': 3, 'Cultural Enhancement': 4, 'Values Formation': 5, 'Disaster Management': 6, 'Gender and Development': 7}  # Define your categories and values\n",
        "\n",
        "# Apply custom encoding to the categorical columns\n",
        "data['Kasarian'] = data['Kasarian'].map(encoding_dict_kasarian)\n",
        "data['Edad'] = data['Edad'].map(encoding_dict_edad)\n",
        "data['Antas na tinapos'] = data['Antas na tinapos'].map(encoding_dict_antas)\n",
        "data['Uri ng trabaho'] = data['Uri ng trabaho'].map(encoding_dict_uri)\n",
        "#data['Program'] = data['Program'].map(encoding_dict_program)\n",
        "\n",
        "# Split the data into training and testing sets\n",
        "X = data.drop(['Program'], axis=1)  # Features\n",
        "y = data['Program']  # Target variable\n",
        "\n",
        "X_train, X_test, y_train, y_test = train_test_split(X, y, test_size=0.33, random_state=42)\n"
      ],
      "metadata": {
        "id": "zYdXp8-5xtEd"
      },
      "execution_count": null,
      "outputs": []
    },
    {
      "cell_type": "code",
      "source": [
        "X_train.head()"
      ],
      "metadata": {
        "id": "p1ban7Lhj9TD"
      },
      "execution_count": null,
      "outputs": []
    },
    {
      "cell_type": "code",
      "source": [
        "X_test.head()"
      ],
      "metadata": {
        "id": "xR0bsMGThHpu"
      },
      "execution_count": null,
      "outputs": []
    },
    {
      "cell_type": "code",
      "source": [
        "# check data types in X_train\n",
        "\n",
        "X_train.dtypes"
      ],
      "metadata": {
        "id": "VPKeZnz13ON-"
      },
      "execution_count": null,
      "outputs": []
    },
    {
      "cell_type": "code",
      "source": [
        "# check the shape of X_train and X_test\n",
        "\n",
        "X_train.shape, X_test.shape"
      ],
      "metadata": {
        "id": "3rU5Qs9A3SF6",
        "colab": {
          "base_uri": "https://localhost:8080/"
        },
        "outputId": "f983f58d-a72c-428c-b3f2-d8345fd05fdb"
      },
      "execution_count": null,
      "outputs": [
        {
          "output_type": "execute_result",
          "data": {
            "text/plain": [
              "((5487, 14), (2704, 14))"
            ]
          },
          "metadata": {},
          "execution_count": 8
        }
      ]
    },
    {
      "cell_type": "code",
      "source": [
        "col_names = ['Kasarian', 'Edad', 'Antas na tinapos', 'Uri ng trabaho', 'Serbisyong Pangedukasyon', 'Pagsasanay Pangkabuhayan (Livelihood)', 'Pagtatanim', 'Serbisyong Pangkalusugan', 'Serbisyong Dental', 'Kaalamang Pangkultura', 'Values Formation at Moral Recovery', 'Ayudang Pagkain (Food Assistance)', 'Pagrerecycle', 'Pagsasanay Ukol sa Teknolohiya', 'Program']\n",
        "df.columns = col_names\n",
        "col_names\n",
        "df.head()"
      ],
      "metadata": {
        "id": "ucIP1IhZ3g5W"
      },
      "execution_count": null,
      "outputs": []
    },
    {
      "cell_type": "markdown",
      "source": [
        "# Random Forest Algorithm"
      ],
      "metadata": {
        "id": "NDfd5shhsaby"
      }
    },
    {
      "cell_type": "code",
      "source": [
        "from sklearn.ensemble import RandomForestClassifier\n",
        "from sklearn.metrics import accuracy_score, classification_report, confusion_matrix\n",
        "\n",
        "rfc = RandomForestClassifier(n_estimators=100, random_state=42)\n",
        "\n",
        "rfc.fit(X_train, y_train)\n",
        "\n",
        "y_pred = rfc.predict(X_test)\n",
        "\n",
        "# Check accuracy score\n",
        "accuracy = accuracy_score(y_test, y_pred)\n",
        "print('Model accuracy score with 100 decision-trees: {0:0.4f}'.format(accuracy))\n"
      ],
      "metadata": {
        "id": "Q8ZdAmFehRVS",
        "colab": {
          "base_uri": "https://localhost:8080/"
        },
        "outputId": "e57e6fde-9396-4070-ba97-d5e3611558ca"
      },
      "execution_count": null,
      "outputs": [
        {
          "output_type": "stream",
          "name": "stdout",
          "text": [
            "Model accuracy score with 100 decision-trees: 1.0000\n"
          ]
        }
      ]
    },
    {
      "cell_type": "code",
      "source": [
        "# Evaluate the model\n",
        "accuracy = accuracy_score(y_test, y_pred)\n",
        "print(f'Accuracy: {accuracy:.2f}')\n",
        "\n",
        "# Display additional evaluation metrics\n",
        "print(classification_report(y_test, y_pred))\n",
        "print(confusion_matrix(y_test, y_pred))"
      ],
      "metadata": {
        "id": "7W6aamrwOx20"
      },
      "execution_count": null,
      "outputs": []
    },
    {
      "cell_type": "markdown",
      "source": [
        "# Export the model"
      ],
      "metadata": {
        "id": "Wq72QTqAjokF"
      }
    },
    {
      "cell_type": "code",
      "source": [
        "import joblib\n",
        "# Assuming 'rfc' is your trained Random Forest Classifier\n",
        "joblib.dump(rfc, 'trained_modelCESU6.pkl')"
      ],
      "metadata": {
        "id": "d63QHFiIjlYj",
        "colab": {
          "base_uri": "https://localhost:8080/"
        },
        "outputId": "1fc40207-c2fd-442a-8b64-5f9a420c7f70"
      },
      "execution_count": null,
      "outputs": [
        {
          "output_type": "execute_result",
          "data": {
            "text/plain": [
              "['trained_modelCESU6.pkl']"
            ]
          },
          "metadata": {},
          "execution_count": 12
        }
      ]
    },
    {
      "cell_type": "code",
      "source": [
        "from google.colab import files\n",
        "files.download('trained_modelCESU6.pkl')"
      ],
      "metadata": {
        "id": "qIVz4OhSkWWU",
        "colab": {
          "base_uri": "https://localhost:8080/",
          "height": 17
        },
        "outputId": "cf6c9384-26e8-490b-916d-53b588d74b9e"
      },
      "execution_count": null,
      "outputs": [
        {
          "output_type": "display_data",
          "data": {
            "text/plain": [
              "<IPython.core.display.Javascript object>"
            ],
            "application/javascript": [
              "\n",
              "    async function download(id, filename, size) {\n",
              "      if (!google.colab.kernel.accessAllowed) {\n",
              "        return;\n",
              "      }\n",
              "      const div = document.createElement('div');\n",
              "      const label = document.createElement('label');\n",
              "      label.textContent = `Downloading \"${filename}\": `;\n",
              "      div.appendChild(label);\n",
              "      const progress = document.createElement('progress');\n",
              "      progress.max = size;\n",
              "      div.appendChild(progress);\n",
              "      document.body.appendChild(div);\n",
              "\n",
              "      const buffers = [];\n",
              "      let downloaded = 0;\n",
              "\n",
              "      const channel = await google.colab.kernel.comms.open(id);\n",
              "      // Send a message to notify the kernel that we're ready.\n",
              "      channel.send({})\n",
              "\n",
              "      for await (const message of channel.messages) {\n",
              "        // Send a message to notify the kernel that we're ready.\n",
              "        channel.send({})\n",
              "        if (message.buffers) {\n",
              "          for (const buffer of message.buffers) {\n",
              "            buffers.push(buffer);\n",
              "            downloaded += buffer.byteLength;\n",
              "            progress.value = downloaded;\n",
              "          }\n",
              "        }\n",
              "      }\n",
              "      const blob = new Blob(buffers, {type: 'application/binary'});\n",
              "      const a = document.createElement('a');\n",
              "      a.href = window.URL.createObjectURL(blob);\n",
              "      a.download = filename;\n",
              "      div.appendChild(a);\n",
              "      a.click();\n",
              "      div.remove();\n",
              "    }\n",
              "  "
            ]
          },
          "metadata": {}
        },
        {
          "output_type": "display_data",
          "data": {
            "text/plain": [
              "<IPython.core.display.Javascript object>"
            ],
            "application/javascript": [
              "download(\"download_fef75cc3-5183-4c28-99ae-43fc13fc2ac0\", \"trained_modelCESU6.pkl\", 9142873)"
            ]
          },
          "metadata": {}
        }
      ]
    },
    {
      "cell_type": "markdown",
      "source": [
        "# **Walang Trabaho**"
      ],
      "metadata": {
        "id": "v7J3lKgBiDzV"
      }
    },
    {
      "cell_type": "code",
      "source": [
        "import itertools\n",
        "import csv\n",
        "\n",
        "combinations = list(itertools.product([0, 1], repeat=10))\n",
        "\n",
        "csv_file = \"cesu-17-below-WalangTrabaho.csv\"\n",
        "\n",
        "with open(csv_file, mode=\"w\", newline=\"\") as file:\n",
        "    writer = csv.writer(file)\n",
        "    writer.writerow([\n",
        "        \"Kasarian\",\n",
        "        \"Edad\",\n",
        "        \"Antas na tinapos\",\n",
        "        \"Uri ng trabaho\",\n",
        "        \"Serbisyong Pangedukasyon\",\n",
        "        \"Pagsasanay Pangkabuhayan (Livelihood)\",\n",
        "        \"Pagtatanim\",\n",
        "        \"Serbisyong Pangkalusugan\",\n",
        "        \"Serbisyong Dental\",\n",
        "        \"Kaalamang Pangkultura\",\n",
        "        \"Values Formation at Moral Recovery\",\n",
        "        \"Ayudang Pagkain (Food Assistance)\",\n",
        "        \"Pagrerecycle\",\n",
        "        \"Pagsasanay Ukol sa Teknolohiya\",\n",
        "        \"Program\"\n",
        "    ])\n",
        "\n",
        "    constant_values = {\n",
        "        \"edad\": \"17-below\",\n",
        "        \"trabaho\": \"Walang Trabaho\",\n",
        "    }\n",
        "\n",
        "    gender_values = [\"Babae\", \"Lalake\"]\n",
        "    education_values = [\n",
        "        \"Hindi nakapagtapos ng Elementarya\",\n",
        "        \"Elementarya\",\n",
        "        \"Hindi nakapagtapos ng Sekundarya\",\n",
        "        \"Sekundarya\",\n",
        "\n",
        "\n",
        "\n",
        "    ]\n",
        "\n",
        "    for kasarian_value in gender_values:\n",
        "        for antas_value in education_values:\n",
        "            constant_values[\"kasarian\"] = kasarian_value\n",
        "            constant_values[\"antas\"] = antas_value\n",
        "\n",
        "            for combo in combinations:\n",
        "                (serbisyong_pangedukasyon, pagsasanay_pangkabuhayan, pagtatanim,\n",
        "                serbisyong_pangkalusugan, dental, kultura, values, ayudang_pagkain,\n",
        "                recycle, teknolohiya) = combo\n",
        "\n",
        "                if serbisyong_pangedukasyon == 1:\n",
        "                    predict_value = \"Literacy\"\n",
        "                elif teknolohiya == 1:\n",
        "                    predict_value = \"Literacy\"\n",
        "                elif values == 1:\n",
        "                    predict_value = \"Values Formation\"\n",
        "                elif kultura == 1:\n",
        "                    predict_value = \"Cultural Enhancement\"\n",
        "                elif pagtatanim == 1:\n",
        "                    predict_value = \"Environmental Stewardship\"\n",
        "                elif recycle == 1:\n",
        "                    predict_value = \"Environmental Stewardship\"\n",
        "                elif serbisyong_pangkalusugan == 1:\n",
        "                    predict_value = \"Health and Wellness\"\n",
        "                elif ayudang_pagkain == 1:\n",
        "                    predict_value = \"Socio-economic\"\n",
        "                elif pagsasanay_pangkabuhayan == 1:\n",
        "                    predict_value = \"Socio-economic\"\n",
        "                elif dental == 1:\n",
        "                    predict_value = \"Health and Wellness\"\n",
        "                else:\n",
        "                    predict_value = \"Literacy\"\n",
        "\n",
        "                # Append the constant values and binary attribute values to the CSV file\n",
        "                writer.writerow([constant_values[\"kasarian\"], constant_values[\"edad\"],\n",
        "                                 constant_values[\"antas\"], constant_values[\"trabaho\"]] + list(combo) + [predict_value])\n",
        "\n",
        "print(\"CSV file created: \" + csv_file)\n"
      ],
      "metadata": {
        "colab": {
          "base_uri": "https://localhost:8080/"
        },
        "id": "FlojyK-NkRlC",
        "outputId": "c9ac20cc-e7c9-463d-c58c-0e3df008d9e6"
      },
      "execution_count": null,
      "outputs": [
        {
          "output_type": "stream",
          "name": "stdout",
          "text": [
            "CSV file created: cesu-17-below-WalangTrabaho.csv\n"
          ]
        }
      ]
    },
    {
      "cell_type": "markdown",
      "source": [
        "# May Trabaho"
      ],
      "metadata": {
        "id": "63lkjr6InHz4"
      }
    },
    {
      "cell_type": "code",
      "source": [
        "import itertools\n",
        "import csv\n",
        "\n",
        "combinations = list(itertools.product([0, 1], repeat=10))\n",
        "\n",
        "csv_file = \"cesu-17-below-Maytrabaho.csv\"\n",
        "\n",
        "with open(csv_file, mode=\"w\", newline=\"\") as file:\n",
        "    writer = csv.writer(file)\n",
        "    writer.writerow([\n",
        "        \"Kasarian\",\n",
        "        \"Edad\",\n",
        "        \"Antas na tinapos\",\n",
        "        \"Uri ng trabaho\",\n",
        "        \"Serbisyong Pangedukasyon\",\n",
        "        \"Pagsasanay Pangkabuhayan (Livelihood)\",\n",
        "        \"Pagtatanim\",\n",
        "        \"Serbisyong Pangkalusugan\",\n",
        "        \"Serbisyong Dental\",\n",
        "        \"Kaalamang Pangkultura\",\n",
        "        \"Values Formation at Moral Recovery\",\n",
        "        \"Ayudang Pagkain (Food Assistance)\",\n",
        "        \"Pagrerecycle\",\n",
        "        \"Pagsasanay Ukol sa Teknolohiya\",\n",
        "        \"Program\"\n",
        "    ])\n",
        "\n",
        "    constant_values = {\n",
        "        \"edad\": \"17-below\",\n",
        "        \"trabaho\": \"May Trabaho\",\n",
        "    }\n",
        "\n",
        "    gender_values = [\"Babae\", \"Lalake\"]\n",
        "    education_values = [\n",
        "        \"Hindi nakapagtapos ng Elementarya\",\n",
        "        \"Elementarya\",\n",
        "        \"Hindi nakapagtapos ng Sekundarya\",\n",
        "        \"Sekundarya\",\n",
        "\n",
        "\n",
        "\n",
        "    ]\n",
        "\n",
        "    for kasarian_value in gender_values:\n",
        "        for antas_value in education_values:\n",
        "            constant_values[\"kasarian\"] = kasarian_value\n",
        "            constant_values[\"antas\"] = antas_value\n",
        "\n",
        "            for combo in combinations:\n",
        "                (serbisyong_pangedukasyon, pagsasanay_pangkabuhayan, pagtatanim,\n",
        "                serbisyong_pangkalusugan, dental, kultura, values, ayudang_pagkain,\n",
        "                recycle, teknolohiya) = combo\n",
        "\n",
        "                if teknolohiya == 1:\n",
        "                    predict_value = \"Literacy\"\n",
        "                elif pagsasanay_pangkabuhayan == 1:\n",
        "                    predict_value = \"Socio-economic\"\n",
        "                elif serbisyong_pangedukasyon == 1:\n",
        "                    predict_value = \"Literacy\"\n",
        "                elif values == 1:\n",
        "                    predict_value = \"Values Formation\"\n",
        "                elif kultura == 1:\n",
        "                    predict_value = \"Cultural Enhancement\"\n",
        "                elif pagtatanim == 1:\n",
        "                    predict_value = \"Environmental Stewardship\"\n",
        "                elif recycle == 1:\n",
        "                    predict_value = \"Environmental Stewardship\"\n",
        "                elif serbisyong_pangkalusugan == 1:\n",
        "                    predict_value = \"Health and Wellness\"\n",
        "                elif ayudang_pagkain == 1:\n",
        "                    predict_value = \"Socio-economic\"\n",
        "                elif dental == 1:\n",
        "                    predict_value = \"Health and Wellness\"\n",
        "                else:\n",
        "                    predict_value = \"Literacy\"\n",
        "\n",
        "                # Append the constant values and binary attribute values to the CSV file\n",
        "                writer.writerow([constant_values[\"kasarian\"], constant_values[\"edad\"],\n",
        "                                 constant_values[\"antas\"], constant_values[\"trabaho\"]] + list(combo) + [predict_value])\n",
        "\n",
        "print(\"CSV file created: \" + csv_file)\n"
      ],
      "metadata": {
        "colab": {
          "base_uri": "https://localhost:8080/"
        },
        "id": "qQoKfSdXnGmZ",
        "outputId": "08f2fce3-0545-4b32-c2c0-9a55ae4828e5"
      },
      "execution_count": null,
      "outputs": [
        {
          "output_type": "stream",
          "name": "stdout",
          "text": [
            "CSV file created: cesu-17-below-Maytrabaho.csv\n"
          ]
        }
      ]
    },
    {
      "cell_type": "markdown",
      "source": [
        "# For Subprogram Model\n"
      ],
      "metadata": {
        "id": "kJgAnPuTr3TD"
      }
    },
    {
      "cell_type": "code",
      "source": [
        "import pandas as pd\n",
        "from sklearn.model_selection import train_test_split\n",
        "\n",
        "# Load the CSV data\n",
        "data2 = pd.read_csv('/content/cesu17-below_subprogram_May_Trabaho.csv')\n",
        "df2 = pd.DataFrame(data2)\n",
        "# Define custom encoding dictionaries for each categorical column\n",
        "encoding_dict_kasarian = {'Lalake': 0, 'Babae': 1}\n",
        "encoding_dict_edad= {'17-below': 0, '18-24': 1, '25-34': 2, '35-44': 3, '45-54': 4, '55-64': 5, '65-Above': 6 }\n",
        "encoding_dict_antas = {'Hindi nakapagtapos ng Elementarya':0, 'Elementarya':1, 'Hindi nakapagtapos ng Sekundarya':2, 'Sekundarya':3, 'Kolehiyo':4, 'Hindi nakapagtapos ng Kolehiyo':5, 'Masters Degree':6, 'Doctorate Degree':7, 'Hindi nakapag-aral':8}\n",
        "encoding_dict_uri = {'May Trabaho': 1, 'Walang Trabaho': 0}\n",
        "encoding_dict_program = {'Literacy': 0, 'Socio-economic': 1, 'Environmental Stewardship': 2, 'Health and Wellness': 3, 'Cultural Enhancement': 4, 'Values Formation': 5, 'Disaster Management': 6, 'Gender and Development': 7}\n",
        "\n",
        "# Apply custom encoding to the categorical columns\n",
        "data2['Kasarian'] = data2['Kasarian'].map(encoding_dict_kasarian)\n",
        "data2['Edad'] = data2['Edad'].map(encoding_dict_edad)\n",
        "data2['Antas na tinapos'] = data2['Antas na tinapos'].map(encoding_dict_antas)\n",
        "data2['Uri ng trabaho'] = data2['Uri ng trabaho'].map(encoding_dict_uri)\n",
        "data2['Program'] = data2['Program'].map(encoding_dict_program)\n",
        "\n",
        "# Split the data into training and testing sets\n",
        "X2 = data2.drop(['Sub Program'], axis=1)  # Features\n",
        "y2 = data2['Sub Program']  # Target variable\n",
        "\n",
        "X_train2, X_test2, y_train2, y_test2 = train_test_split(X2, y2, test_size=0.33, random_state=42)\n"
      ],
      "metadata": {
        "id": "fuOq5oLKr6k7"
      },
      "execution_count": null,
      "outputs": []
    },
    {
      "cell_type": "code",
      "source": [
        "X_train2.head()"
      ],
      "metadata": {
        "id": "gEkhLHfHvwIw"
      },
      "execution_count": null,
      "outputs": []
    },
    {
      "cell_type": "code",
      "source": [
        "X_test2.head()"
      ],
      "metadata": {
        "id": "eVmeRzlQxCDz"
      },
      "execution_count": null,
      "outputs": []
    },
    {
      "cell_type": "code",
      "source": [
        "\n",
        "X_train2.dtypes"
      ],
      "metadata": {
        "id": "k2V307aNxGrF"
      },
      "execution_count": null,
      "outputs": []
    },
    {
      "cell_type": "code",
      "source": [
        "col_names = ['Kasarian', 'Edad', 'Antas na tinapos', 'Uri ng trabaho', 'Serbisyong Pangedukasyon', 'Pagsasanay Pangkabuhayan (Livelihood)', 'Pagtatanim', 'Serbisyong Pangkalusugan', 'Serbisyong Dental', 'Kaalamang Pangkultura', 'Values Formation at Moral Recovery', 'Ayudang Pagkain (Food Assistance)', 'Pagrerecycle', 'Pagsasanay Ukol sa Teknolohiya', 'Program', 'Sub Program']\n",
        "df2.columns = col_names\n",
        "col_names\n",
        "df2.head()"
      ],
      "metadata": {
        "id": "4Cu1ZUtwRL3m"
      },
      "execution_count": null,
      "outputs": []
    },
    {
      "cell_type": "code",
      "source": [
        "from sklearn.ensemble import RandomForestClassifier\n",
        "from sklearn.metrics import accuracy_score, classification_report, confusion_matrix\n",
        "\n",
        "rfc2 = RandomForestClassifier(n_estimators=100, random_state=42)\n",
        "\n",
        "rfc2.fit(X_train2, y_train2)\n",
        "\n",
        "y_pred2 = rfc2.predict(X_test2)\n",
        "\n",
        "# Check accuracy score\n",
        "accuracy = accuracy_score(y_test2, y_pred2)\n",
        "print('Model accuracy score with 100 decision-trees: {0:0.4f}'.format(accuracy))\n"
      ],
      "metadata": {
        "colab": {
          "base_uri": "https://localhost:8080/"
        },
        "id": "m6X4PUt1uWbz",
        "outputId": "c748c449-4a6e-457a-afd3-556c246923c5"
      },
      "execution_count": null,
      "outputs": [
        {
          "output_type": "stream",
          "name": "stdout",
          "text": [
            "Model accuracy score with 100 decision-trees: 1.0000\n"
          ]
        }
      ]
    },
    {
      "cell_type": "code",
      "source": [
        "import joblib\n",
        "from google.colab import files\n",
        "\n",
        "\n",
        "joblib.dump(rfc2, 'subprogram6.pkl')\n",
        "files.download('subprogram6.pkl')"
      ],
      "metadata": {
        "colab": {
          "base_uri": "https://localhost:8080/",
          "height": 34
        },
        "id": "LQI8kxNpzIxf",
        "outputId": "a8d11f9f-ba5c-43a2-e3e0-5f1f1f718b8c"
      },
      "execution_count": null,
      "outputs": [
        {
          "output_type": "display_data",
          "data": {
            "text/plain": [
              "<IPython.core.display.Javascript object>"
            ],
            "application/javascript": [
              "\n",
              "    async function download(id, filename, size) {\n",
              "      if (!google.colab.kernel.accessAllowed) {\n",
              "        return;\n",
              "      }\n",
              "      const div = document.createElement('div');\n",
              "      const label = document.createElement('label');\n",
              "      label.textContent = `Downloading \"${filename}\": `;\n",
              "      div.appendChild(label);\n",
              "      const progress = document.createElement('progress');\n",
              "      progress.max = size;\n",
              "      div.appendChild(progress);\n",
              "      document.body.appendChild(div);\n",
              "\n",
              "      const buffers = [];\n",
              "      let downloaded = 0;\n",
              "\n",
              "      const channel = await google.colab.kernel.comms.open(id);\n",
              "      // Send a message to notify the kernel that we're ready.\n",
              "      channel.send({})\n",
              "\n",
              "      for await (const message of channel.messages) {\n",
              "        // Send a message to notify the kernel that we're ready.\n",
              "        channel.send({})\n",
              "        if (message.buffers) {\n",
              "          for (const buffer of message.buffers) {\n",
              "            buffers.push(buffer);\n",
              "            downloaded += buffer.byteLength;\n",
              "            progress.value = downloaded;\n",
              "          }\n",
              "        }\n",
              "      }\n",
              "      const blob = new Blob(buffers, {type: 'application/binary'});\n",
              "      const a = document.createElement('a');\n",
              "      a.href = window.URL.createObjectURL(blob);\n",
              "      a.download = filename;\n",
              "      div.appendChild(a);\n",
              "      a.click();\n",
              "      div.remove();\n",
              "    }\n",
              "  "
            ]
          },
          "metadata": {}
        },
        {
          "output_type": "display_data",
          "data": {
            "text/plain": [
              "<IPython.core.display.Javascript object>"
            ],
            "application/javascript": [
              "download(\"download_ababaa83-6658-41b9-ad19-9f9bc46b2d2a\", \"subprogram6.pkl\", 5161713)"
            ]
          },
          "metadata": {}
        }
      ]
    },
    {
      "cell_type": "markdown",
      "source": [
        "# Walang Trabaho (Sub)"
      ],
      "metadata": {
        "id": "iQ0UNALL6xKY"
      }
    },
    {
      "cell_type": "code",
      "source": [
        "import itertools\n",
        "import csv\n",
        "\n",
        "combinations = list(itertools.product([0, 1], repeat=10))\n",
        "\n",
        "csv_file = \"cesu17-below_subprogram_Walang_Trabaho.csv\"\n",
        "\n",
        "with open(csv_file, mode=\"w\", newline=\"\") as file:\n",
        "    writer = csv.writer(file)\n",
        "    writer.writerow([\n",
        "        \"Kasarian\",\n",
        "        \"Edad\",\n",
        "        \"Antas na tinapos\",\n",
        "        \"Uri ng trabaho\",\n",
        "        \"Serbisyong Pangedukasyon\",\n",
        "        \"Pagsasanay Pangkabuhayan (Livelihood)\",\n",
        "        \"Pagtatanim\",\n",
        "        \"Serbisyong Pangkalusugan\",\n",
        "        \"Serbisyong Dental\",\n",
        "        \"Kaalamang Pangkultura\",\n",
        "        \"Values Formation at Moral Recovery\",\n",
        "        \"Ayudang Pagkain (Food Assistance)\",\n",
        "        \"Pagrerecycle\",\n",
        "        \"Pagsasanay Ukol sa Teknolohiya\",\n",
        "        \"Program\",\n",
        "        \"Sub Program\"\n",
        "    ])\n",
        "\n",
        "    constant_values = {\n",
        "        \"edad\": \"17-below\",\n",
        "        \"trabaho\": \"Walang Trabaho\",\n",
        "    }\n",
        "\n",
        "    gender_values = [\"Babae\", \"Lalake\"]\n",
        "    education_values = [\n",
        "        \"Hindi nakapagtapos ng Elementarya\",\n",
        "        \"Elementarya\",\n",
        "        \"Hindi nakapagtapos ng Sekundarya\",\n",
        "        \"Sekundarya\",\n",
        "\n",
        "\n",
        "    ]\n",
        "\n",
        "    for kasarian_value in gender_values:\n",
        "        for antas_value in education_values:\n",
        "            constant_values[\"kasarian\"] = kasarian_value\n",
        "            constant_values[\"antas\"] = antas_value\n",
        "\n",
        "            for combo in combinations:\n",
        "                (serbisyong_pangedukasyon, pagsasanay_pangkabuhayan, pagtatanim,\n",
        "                serbisyong_pangkalusugan, dental, kultura, values, ayudang_pagkain,\n",
        "                recycle, teknolohiya) = combo\n",
        "\n",
        "                if serbisyong_pangedukasyon == 1:\n",
        "                    predict_value = \"Literacy\"\n",
        "                    sub_program = \"Media and Basic Literacy\"\n",
        "                elif teknolohiya == 1:\n",
        "                    predict_value = \"Literacy\"\n",
        "                    sub_program = \"ICT Literacy Program\"\n",
        "                elif values == 1:\n",
        "                    predict_value = \"Values Formation\"\n",
        "                    sub_program = \"Personality Development\"\n",
        "                elif kultura == 1:\n",
        "                    predict_value = \"Cultural Enhancement\"\n",
        "                    sub_program = \"Culture and Arts\"\n",
        "                elif pagtatanim == 1:\n",
        "                    predict_value = \"Environmental Stewardship\"\n",
        "                    sub_program = \"Seminar & Tree Planting Activities\"\n",
        "                elif recycle == 1:\n",
        "                    predict_value = \"Environmental Stewardship\"\n",
        "                    sub_program = \"Clean-up Drive\"\n",
        "\n",
        "                elif serbisyong_pangkalusugan == 1:\n",
        "                    predict_value = \"Health and Wellness\"\n",
        "                    sub_program = \"Medical and Dental Mission\"\n",
        "\n",
        "                elif ayudang_pagkain == 1:\n",
        "                    predict_value = \"Socio-economic\"\n",
        "                    sub_program = \"Food assistance\"\n",
        "\n",
        "                elif pagsasanay_pangkabuhayan == 1:\n",
        "                    predict_value = \"Socio-economic\"\n",
        "                    sub_program = \"Training/seminar Program\"\n",
        "                elif dental == 1:\n",
        "                    predict_value = \"Health and Wellness\"\n",
        "                    sub_program = \"Medical and Dental Mission\"\n",
        "                else:\n",
        "                    predict_value = \"Literacy\"\n",
        "                    sub_program = \"Media and Basic Literacy\"\n",
        "\n",
        "                # Append the constant values and binary attribute values to the CSV file\n",
        "                writer.writerow([constant_values[\"kasarian\"], constant_values[\"edad\"],\n",
        "                                 constant_values[\"antas\"], constant_values[\"trabaho\"]] + list(combo) + [predict_value] + [sub_program])\n",
        "\n",
        "print(\"CSV file created: \" + csv_file)\n"
      ],
      "metadata": {
        "colab": {
          "base_uri": "https://localhost:8080/"
        },
        "id": "hchz__iE62YP",
        "outputId": "078c0b3c-9b12-4805-eda9-43038d9ea3ee"
      },
      "execution_count": null,
      "outputs": [
        {
          "output_type": "stream",
          "name": "stdout",
          "text": [
            "CSV file created: cesu17-below_subprogram_Walang_Trabaho.csv\n"
          ]
        }
      ]
    },
    {
      "cell_type": "markdown",
      "source": [
        "# May Trabaho (Sub)"
      ],
      "metadata": {
        "id": "h6e0f2kp9-Td"
      }
    },
    {
      "cell_type": "code",
      "source": [
        "import itertools\n",
        "import csv\n",
        "\n",
        "combinations = list(itertools.product([0, 1], repeat=10))\n",
        "\n",
        "csv_file = \"cesu17-below_subprogram_May_Trabaho.csv\"\n",
        "\n",
        "with open(csv_file, mode=\"w\", newline=\"\") as file:\n",
        "    writer = csv.writer(file)\n",
        "    writer.writerow([\n",
        "        \"Kasarian\",\n",
        "        \"Edad\",\n",
        "        \"Antas na tinapos\",\n",
        "        \"Uri ng trabaho\",\n",
        "        \"Serbisyong Pangedukasyon\",\n",
        "        \"Pagsasanay Pangkabuhayan (Livelihood)\",\n",
        "        \"Pagtatanim\",\n",
        "        \"Serbisyong Pangkalusugan\",\n",
        "        \"Serbisyong Dental\",\n",
        "        \"Kaalamang Pangkultura\",\n",
        "        \"Values Formation at Moral Recovery\",\n",
        "        \"Ayudang Pagkain (Food Assistance)\",\n",
        "        \"Pagrerecycle\",\n",
        "        \"Pagsasanay Ukol sa Teknolohiya\",\n",
        "        \"Program\",\n",
        "        \"Sub Program\"\n",
        "    ])\n",
        "\n",
        "    constant_values = {\n",
        "        \"edad\": \"17-below\",\n",
        "        \"trabaho\": \"May Trabaho\",\n",
        "    }\n",
        "\n",
        "    gender_values = [\"Babae\", \"Lalake\"]\n",
        "    education_values = [\n",
        "        \"Hindi nakapagtapos ng Elementarya\",\n",
        "        \"Elementarya\",\n",
        "        \"Hindi nakapagtapos ng Sekundarya\",\n",
        "        \"Sekundarya\",\n",
        "    ]\n",
        "\n",
        "    for kasarian_value in gender_values:\n",
        "        for antas_value in education_values:\n",
        "            constant_values[\"kasarian\"] = kasarian_value\n",
        "            constant_values[\"antas\"] = antas_value\n",
        "            for combo in combinations:\n",
        "                (serbisyong_pangedukasyon, pagsasanay_pangkabuhayan, pagtatanim,\n",
        "                serbisyong_pangkalusugan, dental, kultura, values, ayudang_pagkain,\n",
        "                recycle, teknolohiya) = combo\n",
        "\n",
        "                if teknolohiya == 1:\n",
        "                    predict_value = \"Literacy\"\n",
        "                    sub_program = \"ICT Literacy Program\"\n",
        "                elif pagsasanay_pangkabuhayan == 1:\n",
        "                    predict_value = \"Socio-economic\"\n",
        "                    sub_program = \"Training/seminar Program\"\n",
        "                elif serbisyong_pangedukasyon == 1:\n",
        "                    predict_value = \"Literacy\"\n",
        "                    sub_program = \"Media and Basic Literacy\"\n",
        "                elif values == 1:\n",
        "                    predict_value = \"Values Formation\"\n",
        "                    sub_program = \"Personality Development\"\n",
        "                elif kultura == 1:\n",
        "                    predict_value = \"Cultural Enhancement\"\n",
        "                    sub_program = \"Culture and Arts\"\n",
        "                elif pagtatanim == 1:\n",
        "                    predict_value = \"Environmental Stewardship\"\n",
        "                    sub_program = \"Seminar & Tree Planting Activities\"\n",
        "                elif recycle == 1:\n",
        "                    predict_value = \"Environmental Stewardship\"\n",
        "                    sub_program = \"Clean-up Drive\"\n",
        "                elif serbisyong_pangkalusugan == 1:\n",
        "                    predict_value = \"Health and Wellness\"\n",
        "                    sub_program = \"Medical and Dental Mission\"\n",
        "                elif ayudang_pagkain == 1:\n",
        "                    predict_value = \"Socio-economic\"\n",
        "                    sub_program = \"Food assistance\"\n",
        "                elif dental == 1:\n",
        "                    predict_value = \"Health and Wellness\"\n",
        "                    sub_program = \"Medical and Dental Mission\"\n",
        "                else:\n",
        "                    predict_value = \"Literacy\"\n",
        "                    sub_program = \"ICT Literacy Program\"\n",
        "\n",
        "                # Append the constant values and binary attribute values to the CSV file\n",
        "                writer.writerow([constant_values[\"kasarian\"], constant_values[\"edad\"],\n",
        "                                 constant_values[\"antas\"], constant_values[\"trabaho\"]] + list(combo) + [predict_value] + [sub_program])\n",
        "\n",
        "print(\"CSV file created: \" + csv_file)\n"
      ],
      "metadata": {
        "id": "zT3RtoVY-Ajn",
        "colab": {
          "base_uri": "https://localhost:8080/"
        },
        "outputId": "7c0aa39e-0794-4736-f19d-1f8c21f50d4f"
      },
      "execution_count": null,
      "outputs": [
        {
          "output_type": "stream",
          "name": "stdout",
          "text": [
            "CSV file created: cesu17-below_subprogram_May_Trabaho.csv\n"
          ]
        }
      ]
    },
    {
      "cell_type": "markdown",
      "source": [
        "# Checking the datasets value"
      ],
      "metadata": {
        "id": "hm9WxKu5u_EN"
      }
    },
    {
      "cell_type": "code",
      "source": [
        "import pandas as pd\n",
        "file_path = \"/content/cesu_subprogram_v6.csv\"\n",
        "df = pd.read_csv(file_path)\n",
        "nan_check = df.isna()"
      ],
      "metadata": {
        "id": "nrCmYYZ8sRPz"
      },
      "execution_count": null,
      "outputs": []
    },
    {
      "cell_type": "code",
      "source": [
        "nan_count_per_column = nan_check.sum()\n",
        "nan_count_total = nan_check.sum().sum()\n",
        "\n",
        "print(\"NaN count per column:\")\n",
        "print(nan_count_per_column)\n",
        "\n",
        "print(\"\\nTotal NaN count in the DataFrame:\", nan_count_total)\n"
      ],
      "metadata": {
        "id": "cetMji_QsYvk"
      },
      "execution_count": null,
      "outputs": []
    },
    {
      "cell_type": "code",
      "source": [
        "# Find rows containing NaN values\n",
        "rows_with_nan = nan_check.any(axis=1)\n",
        "\n",
        "# Extract the row numbers (indexes) where NaN values exist\n",
        "rows_with_nan_indexes = df.index[rows_with_nan]\n",
        "\n",
        "# Print the row numbers\n",
        "print(\"Rows with NaN values:\")\n",
        "print(rows_with_nan_indexes)\n"
      ],
      "metadata": {
        "colab": {
          "base_uri": "https://localhost:8080/"
        },
        "id": "KUt6p8zEtiPG",
        "outputId": "1f7472a9-7125-4e1d-b053-4f05cc56b13f"
      },
      "execution_count": null,
      "outputs": [
        {
          "output_type": "stream",
          "name": "stdout",
          "text": [
            "Rows with NaN values:\n",
            "Int64Index([], dtype='int64')\n"
          ]
        }
      ]
    },
    {
      "cell_type": "code",
      "source": [
        "# Find rows containing NaN values\n",
        "rows_with_nan = nan_check.any(axis=1)\n",
        "\n",
        "# Extract the row numbers (indexes) where NaN values exist\n",
        "rows_with_nan_indexes = df.index[rows_with_nan]\n",
        "\n",
        "# Print the row numbers\n",
        "print(\"Rows with NaN values:\")\n",
        "print(rows_with_nan_indexes)\n",
        "\n",
        "# Print specific columns with NaN values in those rows\n",
        "for row_index in rows_with_nan_indexes:\n",
        "    nan_columns = nan_check.loc[row_index]\n",
        "    print(f\"NaN columns in row {row_index}:\")\n",
        "    print(nan_columns[nan_columns].index)\n"
      ],
      "metadata": {
        "colab": {
          "base_uri": "https://localhost:8080/"
        },
        "id": "F_j-oGiWYw9l",
        "outputId": "342df0cc-7e57-478d-e947-bf85e238c827"
      },
      "execution_count": null,
      "outputs": [
        {
          "output_type": "stream",
          "name": "stdout",
          "text": [
            "Rows with NaN values:\n",
            "Int64Index([], dtype='int64')\n"
          ]
        }
      ]
    },
    {
      "cell_type": "code",
      "source": [
        "\n",
        "#FOR 17-below WALANG TRABAHO\n",
        "\n",
        "                if serbisyong_pangedukasyon == 1:\n",
        "                    predict_value = \"Literacy\"\n",
        "                    sub_program = \"Media and Basic Literacy\"\n",
        "                elif teknolohiya == 1:\n",
        "                    predict_value = \"Literacy\"\n",
        "                    sub_program = \"ICT Literacy Program\"\n",
        "                elif values == 1:\n",
        "                    predict_value = \"Values Formation\"\n",
        "                    sub_program = \"Personality Development\"\n",
        "                elif kultura == 1:\n",
        "                    predict_value = \"Cultural Enhancement\"\n",
        "                    sub_program = \"Culture and Arts\"\n",
        "                elif pagtatanim == 1:\n",
        "                    predict_value = \"Environmental Stewardship\"\n",
        "                    sub_program = \"Seminar & Tree Planting Activities\"\n",
        "                elif recycle == 1:\n",
        "                    predict_value = \"Environmental Stewardship\"\n",
        "                    sub_program = \"Clean-up Drive\"\n",
        "\n",
        "                elif serbisyong_pangkalusugan == 1:\n",
        "                    predict_value = \"Health and Wellness\"\n",
        "                    sub_program = \"Medical and Dental Mission\"\n",
        "\n",
        "                elif ayudang_pagkain == 1:\n",
        "                    predict_value = \"Socio-economic\"\n",
        "                    sub_program = \"Food assistance\"\n",
        "\n",
        "                elif pagsasanay_pangkabuhayan == 1:\n",
        "                    predict_value = \"Socio-economic\"\n",
        "                    sub_program = \"Training/seminar Program\"\n",
        "                elif dental == 1:\n",
        "                    predict_value = \"Health and Wellness\"\n",
        "                    sub_program = \"Medical and Dental Mission\"\n",
        "                else:\n",
        "                    predict_value = \"Literacy\"\n",
        "                    sub_program = \"Media and Basic Literacy\"\n",
        "\n",
        "#FOR 17-below MAY TRABAHO\n",
        "\n",
        "                if teknolohiya == 1:\n",
        "                    predict_value = \"Literacy\"\n",
        "                    sub_program = \"ICT Literacy Program\"\n",
        "                elif pagsasanay_pangkabuhayan == 1:\n",
        "                    predict_value = \"Socio-economic\"\n",
        "                    sub_program = \"Training/seminar Program\"\n",
        "                elif serbisyong_pangedukasyon == 1:\n",
        "                    predict_value = \"Literacy\"\n",
        "                    sub_program = \"Media and Basic Literacy\"\n",
        "                elif values == 1:\n",
        "                    predict_value = \"Values Formation\"\n",
        "                    sub_program = \"Personality Development\"\n",
        "                elif kultura == 1:\n",
        "                    predict_value = \"Cultural Enhancement\"\n",
        "                    sub_program = \"Culture and Arts\"\n",
        "                elif pagtatanim == 1:\n",
        "                    predict_value = \"Environmental Stewardship\"\n",
        "                    sub_program = \"Seminar & Tree Planting Activities\"\n",
        "                elif recycle == 1:\n",
        "                    predict_value = \"Environmental Stewardship\"\n",
        "                    sub_program = \"Clean-up Drive\"\n",
        "                elif serbisyong_pangkalusugan == 1:\n",
        "                    predict_value = \"Health and Wellness\"\n",
        "                    sub_program = \"Medical and Dental Mission\"\n",
        "                elif ayudang_pagkain == 1:\n",
        "                    predict_value = \"Socio-economic\"\n",
        "                    sub_program = \"Food assistance\"\n",
        "                elif dental == 1:\n",
        "                    predict_value = \"Health and Wellness\"\n",
        "                    sub_program = \"Medical and Dental Mission\"\n",
        "                else:\n",
        "                    predict_value = \"Literacy\"\n",
        "                    sub_program = \"ICT Literacy Program\"\n",
        "\n",
        "\n",
        "\n",
        "#FOR 18-24 WALANG TRABAHO\n",
        "\t\"Hindi nakapagtapos ng Kolehiyo\",\n",
        "\t\"Kolehiyo\"\n",
        "\n",
        "\t\t            if pagsasanay_pangkabuhayan == 1:\n",
        "                    predict_value = \"Socio-economic\"\n",
        "                    sub_program = \"Livelihood Program\"\n",
        "                elif ayudang_pagkain == 1:\n",
        "                    predict_value = \"Socio-economic\"\n",
        "                    sub_program = \"Food assistance\"\n",
        "                elif teknolohiya == 1:\n",
        "                    predict_value = \"Literacy\"\n",
        "                    sub_program = \"ICT Literacy Program\"\n",
        "                elif serbisyong_pangedukasyon == 1:\n",
        "                    predict_value = \"Literacy\"\n",
        "                    sub_program = \"Basic Training/Seminar Program\"\n",
        "                elif serbisyong_pangkalusugan == 1:\n",
        "                    predict_value = \"Health and Wellness\"\n",
        "                    sub_program = \"Medical and Dental Mission\"\n",
        "                elif pagtatanim == 1:\n",
        "                    predict_value = \"Environmental Stewardship\"\n",
        "                    sub_program = \"Seminar & Tree Planting Activities\"\n",
        "                elif recycle == 1:\n",
        "                    predict_value = \"Environmental Stewardship\"\n",
        "                    sub_program = \"Environmental Conservation and Sustainability\"\n",
        "                elif kultura == 1:\n",
        "                    predict_value = \"Cultural Enhancement\"\n",
        "                    sub_program = \"Culture and Arts\"\n",
        "                elif values == 1:\n",
        "                    predict_value = \"Values Formation\"\n",
        "                    sub_program = \"Personality Development\"\n",
        "                elif dental == 1:\n",
        "                    predict_value = \"Health and Wellness\"\n",
        "                    sub_program = \"Medical and Dental Mission\"\n",
        "                else:\n",
        "                    predict_value = \"Socio-economic\"\n",
        "                    sub_program = \"Livelihood Program\"\n",
        "\n",
        "#FOR 18-24 MAY TRABAHO\n",
        "\t\"Hindi nakapagtapos ng Kolehiyo\",\n",
        "\t\"Kolehiyo\"\n",
        "\n",
        "\n",
        "                if teknolohiya == 1:\n",
        "                    predict_value = \"Literacy\"\n",
        "                    sub_program = \"ICT Literacy Program\"\n",
        "                elif serbisyong_pangkalusugan == 1:\n",
        "                    predict_value = \"Health and Wellness\"\n",
        "                    sub_program = \"Bloodletting Activity\"\n",
        "                elif pagsasanay_pangkabuhayan == 1:\n",
        "                    predict_value = \"Socio-economic\"\n",
        "                    sub_program = \"Training/seminar Program\"\n",
        "                elif serbisyong_pangedukasyon == 1:\n",
        "                    predict_value = \"Literacy\"\n",
        "                    sub_program = \"Financial Literacy\"\n",
        "                elif ayudang_pagkain == 1:\n",
        "                    predict_value = \"Socio-economic\"\n",
        "                    sub_program = \"Feeding Program\"\n",
        "                elif pagtatanim == 1:\n",
        "                    predict_value = \"Environmental Stewardship\"\n",
        "                    sub_program = \"Seminar & Tree Planting Activities\"\n",
        "                elif dental == 1:\n",
        "                    predict_value = \"Health and Wellness\"\n",
        "                    sub_program = \"Medical and Dental Mission\"\n",
        "                elif recycle == 1:\n",
        "                    predict_value = \"Environmental Stewardship\"\n",
        "                    sub_program = \"Environmental Conservation and Sustainability\"\n",
        "                elif values == 1:\n",
        "                    predict_value = \"Values Formation\"\n",
        "                    sub_program = \"Spiritual Wellness\"\n",
        "                elif kultura == 1:\n",
        "                    predict_value = \"Cultural Enhancement\"\n",
        "                    sub_program = \"Culture and Arts\"\n",
        "                else:\n",
        "                    predict_value = \"Literacy\"\n",
        "                    sub_program = \"ICT Literacy Program\"\n",
        "\n",
        "\n",
        "#FOR 25-34 WALANG TRABAHO\n",
        "\t\"Masters Degree\",\n",
        "\n",
        "\t\t           if pagsasanay_pangkabuhayan == 1:\n",
        "                    predict_value = \"Socio-economic\"\n",
        "                    sub_program = \"Livelihood Program\"\n",
        "                elif ayudang_pagkain == 1:\n",
        "                    predict_value = \"Socio-economic\"\n",
        "                    sub_program = \"Food assistance\"\n",
        "                elif teknolohiya == 1:\n",
        "                    predict_value = \"Literacy\"\n",
        "                    sub_program = \"ICT Literacy Program\"\n",
        "                elif serbisyong_pangkalusugan == 1:\n",
        "                    predict_value = \"Health and Wellness\"\n",
        "                    sub_program = \"Basic Food Safety and Sanitation with First Aid\"\n",
        "                elif serbisyong_pangedukasyon == 1:\n",
        "                    predict_value = \"Literacy\"\n",
        "                    sub_program = \"Training/Seminar Program\"\n",
        "                elif pagtatanim == 1:\n",
        "                    predict_value = \"Environmental Stewardship\"\n",
        "                    sub_program = \"Seminar & Tree Planting Activities\"\n",
        "                elif recycle == 1:\n",
        "                    predict_value = \"Environmental Stewardship\"\n",
        "                    sub_program = \"Environmental Conservation and Sustainability\"\n",
        "                elif kultura == 1:\n",
        "                    predict_value = \"Cultural Enhancement\"\n",
        "                    sub_program = \"Culture and Arts\"\n",
        "                elif values == 1:\n",
        "                    predict_value = \"Values Formation\"\n",
        "                    sub_program = \"Spiritual Wellness\"\n",
        "                elif dental == 1:\n",
        "                    predict_value = \"Health and Wellness\"\n",
        "                    sub_program = \"Medical and Dental Mission\"\n",
        "                else:\n",
        "                    predict_value = \"Socio-economic\"\n",
        "                    sub_program = \"Livelihood Program\"\n",
        "\n",
        "#FOR 25-34 MAY TRABAHO\n",
        "\t\"Masters Degree\",\n",
        "\n",
        "\t\t            if serbisyong_pangkalusugan == 1:\n",
        "                    predict_value = \"Health and Wellness\"\n",
        "                    sub_program = \"Medical and Dental Mission\"\n",
        "                elif teknolohiya == 1:\n",
        "                    predict_value = \"Literacy\"\n",
        "                    sub_program = \"ICT Literacy Program\"\n",
        "                elif dental == 1:\n",
        "                    predict_value = \"Health and Wellness\"\n",
        "                    sub_program = \"Medical and Dental Mission\"\n",
        "                elif pagsasanay_pangkabuhayan == 1:\n",
        "                    predict_value = \"Socio-economic\"\n",
        "                    sub_program = \"Training/seminar Program\"\n",
        "                elif serbisyong_pangedukasyon == 1:\n",
        "                    predict_value = \"Literacy\"\n",
        "                    sub_program = \"Financial Literacy\"\n",
        "                elif ayudang_pagkain == 1:\n",
        "                    predict_value = \"Socio-economic\"\n",
        "                    sub_program = \"Feeding program\"\n",
        "                elif pagtatanim == 1:\n",
        "                    predict_value = \"Environmental Stewardship\"\n",
        "                    sub_program = \"Seminar & Tree Planting Activities\"\n",
        "                elif recycle == 1:\n",
        "                    predict_value = \"Environmental Stewardship\"\n",
        "                    sub_program = \"Environmental Conservation and Sustainability\"\n",
        "                elif values == 1:\n",
        "                    predict_value = \"Values Formation\"\n",
        "                    sub_program = \"Spiritual Wellness\"\n",
        "                elif kultura == 1:\n",
        "                    predict_value = \"Cultural Enhancement\"\n",
        "                    sub_program = \"Culture and Arts\"\n",
        "                else:\n",
        "                    predict_value = \"Health and Wellness\"\n",
        "                    sub_program = \"Medical and Dental Mission\"\n",
        "\n",
        "\n",
        "#FOR 35-44 WALANG TRABAHO\n",
        "\t\"Masters Degree\",\n",
        "  \"Doctorate Degree\",\n",
        "\n",
        "\t\t            if pagsasanay_pangkabuhayan == 1:\n",
        "                    predict_value = \"Socio-economic\"\n",
        "                    sub_program = \"Livelihood Program\"\n",
        "                elif ayudang_pagkain == 1:\n",
        "                    predict_value = \"Socio-economic\"\n",
        "                    sub_program = \"Food Assistance\"\n",
        "                elif serbisyong_pangkalusugan == 1:\n",
        "                    predict_value = \"Health and Wellness\"\n",
        "                    sub_program = \"Medical and Dental Mission\"\n",
        "                elif teknolohiya == 1:\n",
        "                    predict_value = \"Literacy\"\n",
        "                    sub_program = \"ICT Literacy Program\"\n",
        "                elif serbisyong_pangedukasyon == 1:\n",
        "                    predict_value = \"Literacy\"\n",
        "                    sub_program = \"Training/Seminar Program\"\n",
        "                elif pagtatanim == 1:\n",
        "                    predict_value = \"Environmental Stewardship\"\n",
        "                    sub_program = \"Seminar & Tree Planting Activities\"\n",
        "                elif recycle == 1:\n",
        "                    predict_value = \"Environmental Stewardship\"\n",
        "                    sub_program = \"Environmental Conservation and Sustainability\"\n",
        "                elif kultura == 1:\n",
        "                    predict_value = \"Cultural Enhancement\"\n",
        "                    sub_program = \"Culture and Arts\"\n",
        "                elif values == 1:\n",
        "                    predict_value = \"Values Formation\"\n",
        "                    sub_program = \"Spiritual Wellness\"\n",
        "                elif dental == 1:\n",
        "                    predict_value = \"Health and Wellness\"\n",
        "                    sub_program = \"Medical and Dental Mission\"\n",
        "                else:\n",
        "                    predict_value = \"Socio-economic\"\n",
        "                    sub_program = \"Livelihood Program\"\n",
        "\n",
        "#FOR 35-44 MAY TRABAHO\n",
        "\t      \"Masters Degree\",\n",
        "        \"Doctorate Degree\",\n",
        "\n",
        "\t\t            if serbisyong_pangkalusugan == 1:\n",
        "                    predict_value = \"Health and Wellness\"\n",
        "                    sub_program = \"Medical and Dental Mission\"\n",
        "                elif teknolohiya == 1:\n",
        "                    predict_value = \"Literacy\"\n",
        "                    sub_program = \"ICT Literacy Program\"\n",
        "                elif dental == 1:\n",
        "                    predict_value = \"Health and Wellness\"\n",
        "                    sub_program = \"Medical and Dental Mission\"\n",
        "                elif serbisyong_pangedukasyon == 1:\n",
        "                    predict_value = \"Literacy\"\n",
        "                    sub_program = \"Financial Literacy\"\n",
        "                elif ayudang_pagkain == 1:\n",
        "                    predict_value = \"Socio-economic\"\n",
        "                    sub_program = \"Feeding Program\"\n",
        "                elif pagtatanim == 1:\n",
        "                    predict_value = \"Environmental Stewardship\"\n",
        "                    sub_program = \"Seminar & Tree Planting Activities\"\n",
        "                elif recycle == 1:\n",
        "                    predict_value = \"Environmental Stewardship\"\n",
        "                    sub_program = \"Environmental Conservation and Sustainability\"\n",
        "                elif pagsasanay_pangkabuhayan == 1:\n",
        "                    predict_value = \"Socio-economic\"\n",
        "                    sub_program = \"Training/seminar Program\"\n",
        "                elif values == 1:\n",
        "                    predict_value = \"Values Formation\"\n",
        "                    sub_program = \"Values Formation Program\"\n",
        "                elif kultura == 1:\n",
        "                    predict_value = \"Cultural Enhancement\"\n",
        "                    sub_program = \"Culture and Arts\"\n",
        "                else:\n",
        "                    predict_value = \"Health and Wellness\"\n",
        "                    sub_program = \"Medical and Dental Mission\"\n",
        "\n",
        "#FOR 45-54 WALANG TRABAHO\n",
        "\n",
        "\t\"Masters Degree\",\n",
        "        \"Doctorate Degree\",\n",
        "\n",
        "                if pagsasanay_pangkabuhayan == 1:\n",
        "                    predict_value = \"Socio-economic\"\n",
        "                    sub_program = \"Livelihood Program\"\n",
        "                elif ayudang_pagkain == 1:\n",
        "                    predict_value = \"Socio-economic\"\n",
        "                    sub_program = \"Food assistance\"\n",
        "                elif serbisyong_pangkalusugan == 1:\n",
        "                    predict_value = \"Health and Wellness\"\n",
        "                    sub_program = \"Medical and Dental Mission\"\n",
        "                elif teknolohiya == 1:\n",
        "                    predict_value = \"Literacy\"\n",
        "                    sub_program = \"ICT Literacy Program \"\n",
        "                elif serbisyong_pangedukasyon == 1:\n",
        "                    predict_value = \"Literacy\"\n",
        "                    sub_program = \"Basic Training/Seminar Program\"\n",
        "                elif pagtatanim == 1:\n",
        "                    predict_value = \"Environmental Stewardship\"\n",
        "                    sub_program = \"Seminar & Tree Planting Activities\"\n",
        "                elif recycle == 1:\n",
        "                    predict_value = \"Environmental Stewardship\"\n",
        "                    sub_program = \"Environmental Conservation and Sustainability\"\n",
        "                elif kultura == 1:\n",
        "                    predict_value = \"Cultural Enhancement\"\n",
        "                    sub_program = \"Culture and Arts\"\n",
        "                elif values == 1:\n",
        "                    predict_value = \"Values Formation\"\n",
        "                    sub_program = \"Values Formation Program\"\n",
        "                elif dental == 1:\n",
        "                    predict_value = \"Health and Wellness\"\n",
        "                    sub_program = \"Medical and Dental Mission\"\n",
        "                else:\n",
        "                    predict_value = \"Socio-economic\"\n",
        "                    sub_program = \"Livelihood Program\"\n",
        "\n",
        "\n",
        "\n",
        "#FOR 45-54 MAY TRABAHO\n",
        "\t\"Masters Degree\",\n",
        "        \"Doctorate Degree\",\n",
        "\n",
        "\t\t            if serbisyong_pangkalusugan == 1:\n",
        "                    predict_value = \"Health and Wellness\"\n",
        "                    sub_program = \"Medical and Dental Mission\"\n",
        "                elif teknolohiya == 1:\n",
        "                    predict_value = \"Literacy\"\n",
        "                    sub_program = \"ICT Literacy Program\"\n",
        "                elif dental == 1:\n",
        "                    predict_value = \"Health and Wellness\"\n",
        "                    sub_program = \"Medical and Dental Mission\"\n",
        "                elif serbisyong_pangedukasyon == 1:\n",
        "                    predict_value = \"Literacy\"\n",
        "                    sub_program = \"Financial Literacy\"\n",
        "                elif ayudang_pagkain == 1:\n",
        "                    predict_value = \"Socio-economic\"\n",
        "                    sub_program = \"Feeding Program\"\n",
        "                elif pagtatanim == 1:\n",
        "                    predict_value = \"Environmental Stewardship\"\n",
        "                    sub_program = \"Seminar & Tree Planting Activities\"\n",
        "                elif recycle == 1:\n",
        "                    predict_value = \"Environmental Stewardship\"\n",
        "                    sub_program = \"Environmental Conservation and Sustainability\"\n",
        "                elif pagsasanay_pangkabuhayan == 1:\n",
        "                    predict_value = \"Socio-economic\"\n",
        "                    sub_program = \"Training/seminar Program\"\n",
        "                elif values == 1:\n",
        "                    predict_value = \"Values Formation\"\n",
        "                    sub_program = \"Values Formation Program\"\n",
        "                elif kultura == 1:\n",
        "                    predict_value = \"Cultural Enhancement\"\n",
        "                    sub_program = \"Culture and Arts\"\n",
        "                else:\n",
        "                    predict_value = \"Health and Wellness\"\n",
        "                    sub_program = \"Medical and Dental Mission\"\n",
        "\n",
        "\n",
        "#FOR 55-64 WALANG TRABAHO\n",
        "\n",
        "        \"Masters Degree\",\n",
        "        \"Doctorate Degree\",\n",
        "\n",
        "\n",
        "                if serbisyong_pangkalusugan == 1:\n",
        "                    predict_value = \"Health and Wellness\"\n",
        "                    sub_program = \"Medical and Dental Mission\"\n",
        "                elif ayudang_pagkain == 1:\n",
        "                    predict_value = \"Socio-economic\"\n",
        "                    sub_program = \"Food asssistance\"\n",
        "                elif dental == 1:\n",
        "                    predict_value = \"Health and Wellness\"\n",
        "                    sub_program = \"Medical and Dental Mission\"\n",
        "                elif pagsasanay_pangkabuhayan == 1:\n",
        "                    predict_value = \"Socio-economic\"\n",
        "                    sub_program = \"Livelihood Program\"\n",
        "                elif teknolohiya == 1:\n",
        "                    predict_value = \"Literacy\"\n",
        "                    sub_program = \"ICT Literacy Program\"\n",
        "                elif serbisyong_pangedukasyon == 1:\n",
        "                    predict_value = \"Literacy\"\n",
        "                    sub_program = \"Basic Training/Seminar Program\"\n",
        "                elif pagtatanim == 1:\n",
        "                    predict_value = \"Environmental Stewardship\"\n",
        "                    sub_program = \"Seminar & Tree Planting Activities\"\n",
        "                elif recycle == 1:\n",
        "                    predict_value = \"Environmental Stewardship\"\n",
        "                    sub_program = \"Environmental Conservation and Sustainability \"\n",
        "                elif kultura == 1:\n",
        "                    predict_value = \"Cultural Enhancement\"\n",
        "                    sub_program = \"Culture and Arts\"\n",
        "                elif values == 1:\n",
        "                    predict_value = \"Values Formation\"\n",
        "                    sub_program = \"Values Formation Program\"\n",
        "                else:\n",
        "                    predict_value = \"Health and Wellness\"\n",
        "                    sub_program = \"Medical and Dental Mission\"\n",
        "\n",
        "#FOR 55-64 MAY TRABAHO\n",
        "\n",
        " \t\t            if serbisyong_pangkalusugan == 1:\n",
        "                    predict_value = \"Health and Wellness\"\n",
        "                    sub_program = \"Medical and Dental Mission\"\n",
        "                elif teknolohiya == 1:\n",
        "                    predict_value = \"Literacy\"\n",
        "                    sub_program = \"ICT Literacy Program\"\n",
        "                elif dental == 1:\n",
        "                    predict_value = \"Health and Wellness\"\n",
        "                    sub_program = \"Medical and Dental Mission\"\n",
        "                elif serbisyong_pangedukasyon == 1:\n",
        "                    predict_value = \"Literacy\"\n",
        "                    sub_program = \"Financial Literacy\"\n",
        "                elif ayudang_pagkain == 1:\n",
        "                    predict_value = \"Socio-economic\"\n",
        "                    sub_program = \"Feeding Program\"\n",
        "                elif pagtatanim == 1:\n",
        "                    predict_value = \"Environmental Stewardship\"\n",
        "                    sub_program = \"Seminar & Tree Planting Activities\"\n",
        "                elif recycle == 1:\n",
        "                    predict_value = \"Environmental Stewardship\"\n",
        "                    sub_program = \"Environmental Conservation and Sustainability \"\n",
        "                elif pagsasanay_pangkabuhayan == 1:\n",
        "                    predict_value = \"Socio-economic\"\n",
        "                    sub_program = \"Training/seminar Program\"\n",
        "                elif values == 1:\n",
        "                    predict_value = \"Values Formation\"\n",
        "                    sub_program = \"Values Formation Program\"\n",
        "                elif kultura == 1:\n",
        "                    predict_value = \"Cultural Enhancement\"\n",
        "                    sub_program = \"Culture and Arts\"\n",
        "                else:\n",
        "                    predict_value = \"Health and Wellness\"\n",
        "                    sub_program = \"Medical and Dental Mission\"\n",
        "\n",
        "\n",
        "#FOR 65-ABOVE WALANG TRABAHO\n",
        "\n",
        "        \"Masters Degree\",\n",
        "        \"Doctorate Degree\",\n",
        "\n",
        "\n",
        "                if serbisyong_pangkalusugan == 1:\n",
        "                    predict_value = \"Health and Wellness\"\n",
        "\t\t\t              sub_program = \"Medical and Dental Mission\"\n",
        "                elif ayudang_pagkain == 1:\n",
        "                    predict_value = \"Socio-economic\"\n",
        "\t\t\t              sub_program = \"Food asssistance\"\n",
        "                elif dental == 1:\n",
        "                    predict_value = \"Health and Wellness\"\n",
        "\t\t\t              sub_program = \"Medical and Dental Mission\"\n",
        "                elif pagsasanay_pangkabuhayan == 1:\n",
        "                    predict_value = \"Socio-economic\"\n",
        "\t\t\t              sub_program = \"Livelihood Program\"\n",
        "                elif teknolohiya == 1:\n",
        "                    predict_value = \"Literacy\"\n",
        "\t\t\t              sub_program = \"ICT Literacy Program\"\n",
        "                elif serbisyong_pangedukasyon == 1:\n",
        "                    predict_value = \"Literacy\"\n",
        "\t\t\t              sub_program = \"Basic Training/Seminar Program\"\n",
        "                elif pagtatanim == 1:\n",
        "                    predict_value = \"Environmental Stewardship\"\n",
        "\t\t\t              sub_program = \"Seminar & Tree Planting Activities\"\n",
        "                elif recycle == 1:\n",
        "                    predict_value = \"Environmental Stewardship\"\n",
        "\t\t\t              sub_program = \"Environmental Conservation and Sustainability\"\n",
        "                elif kultura == 1:\n",
        "                    predict_value = \"Cultural Enhancement\"\n",
        "\t\t\t              sub_program = \"Culture and Arts\"\n",
        "                elif values == 1:\n",
        "                    predict_value = \"Values Formation\"\n",
        "\t\t\t              sub_program = \"Values Formation Program\"\n",
        "                else:\n",
        "                    predict_value = \"Health and Wellness\"\n",
        "\t\t\t              sub_program = \"Medical and Dental Mission\"\n",
        "\n",
        "\n",
        "#FOR 65-Above MAY TRABAHO\n",
        "\n",
        " \t\t            if serbisyong_pangkalusugan == 1:\n",
        "                    predict_value = \"Health and Wellness\"\n",
        "\t\t\t              sub_program = \"Medical and Dental Mission \"\n",
        "                elif teknolohiya == 1:\n",
        "                    predict_value = \"Literacy\"\n",
        "\t\t\t              sub_program = \"ICT Literacy Program\"\n",
        "                elif dental == 1:\n",
        "                    predict_value = \"Health and Wellness\"\n",
        "\t\t\t              sub_program = \"Medical and Dental Mission\"\n",
        "                elif serbisyong_pangedukasyon == 1:\n",
        "                    predict_value = \"Literacy\"\n",
        "\t\t\t              sub_program = \"Financial Literacy\"\n",
        "                elif ayudang_pagkain == 1:\n",
        "                    predict_value = \"Socio-economic\"\n",
        "\t\t\t              sub_program = \"Feeding Program\"\n",
        "                elif pagtatanim == 1:\n",
        "                    predict_value = \"Environmental Stewardship\"\n",
        "\t\t\t              sub_program = \"Seminar & Tree Planting Activities\"\n",
        "                elif recycle == 1:\n",
        "                    predict_value = \"Environmental Stewardship\"\n",
        "\t\t\t              sub_program = \"Environmental Conservation and Sustainability\"\n",
        "                elif pagsasanay_pangkabuhayan == 1:\n",
        "                    predict_value = \"Socio-economic\"\n",
        "\t\t\t              sub_program = \"Livelihood Program\"\n",
        "                elif values == 1:\n",
        "                    predict_value = \"Values Formation\"\n",
        "\t\t\t              sub_program = \"Values Formation Program\"\n",
        "                elif kultura == 1:\n",
        "                    predict_value = \"Cultural Enhancement\"\n",
        "\t\t\t              sub_program = \"Culture and Arts.\"\n",
        "                else:\n",
        "                    predict_value = \"Health and Wellness\"\n",
        "\t\t\t              sub_program = \"Medical and Dental Mission\"\n",
        "\n",
        "\n",
        "\n",
        "\n"
      ],
      "metadata": {
        "id": "ZM6q6PclZ9Ld"
      },
      "execution_count": null,
      "outputs": []
    },
    {
      "cell_type": "markdown",
      "source": [
        "# FOR SPLITTING MODEL\n"
      ],
      "metadata": {
        "id": "RHxe7BYcjdL6"
      }
    },
    {
      "cell_type": "code",
      "source": [
        "import os\n",
        "import shutil\n",
        "\n",
        "# Input and output file paths\n",
        "input_file_path = '/content/trained_modelCESU6.pkl'\n",
        "output_directory = 'split_model_parts'\n",
        "\n",
        "# Create the output directory if it doesn't exist\n",
        "os.makedirs(output_directory, exist_ok=True)\n",
        "\n",
        "# Split the file into parts (e.g., 3 parts)\n",
        "split_size = os.path.getsize(input_file_path) // 3\n",
        "\n",
        "with open(input_file_path, 'rb') as f_in:\n",
        "    for part_num in range(3):\n",
        "        part_path = os.path.join(output_directory, f'part_{part_num + 1}.pkl')\n",
        "        with open(part_path, 'wb') as f_out:\n",
        "            shutil.copyfileobj(f_in, f_out, split_size)\n",
        "\n",
        "print('Model file split into parts.')\n"
      ],
      "metadata": {
        "id": "LZEYYm28jh3r",
        "colab": {
          "base_uri": "https://localhost:8080/"
        },
        "outputId": "b54eae91-5826-4e8f-f4ce-eb0983f9e23c"
      },
      "execution_count": 1,
      "outputs": [
        {
          "output_type": "stream",
          "name": "stdout",
          "text": [
            "Model file split into parts.\n"
          ]
        }
      ]
    },
    {
      "cell_type": "code",
      "source": [
        "#use to combined the part\n",
        "\n",
        "#cat part_1.pkl part_2.pkl part_3.pkl > combined_modelCESU6.pkl\n",
        "\n"
      ],
      "metadata": {
        "id": "aignQhLwo3Fs",
        "colab": {
          "base_uri": "https://localhost:8080/"
        },
        "outputId": "4a44f7cf-b3a6-48ca-be98-a880b0554d37"
      },
      "execution_count": 2,
      "outputs": [
        {
          "output_type": "stream",
          "name": "stdout",
          "text": [
            "Model file parts combined.\n"
          ]
        }
      ]
    }
  ]
}